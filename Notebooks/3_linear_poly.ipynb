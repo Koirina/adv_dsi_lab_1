{
 "cells": [
  {
   "cell_type": "code",
   "execution_count": 1,
   "id": "769b71da",
   "metadata": {},
   "outputs": [],
   "source": [
    "import pandas as pd\n",
    "import numpy as np\n"
   ]
  },
  {
   "cell_type": "code",
   "execution_count": 3,
   "id": "1381c404",
   "metadata": {},
   "outputs": [],
   "source": [
    "from joblib import dump\n",
    "\n",
    "X_train = np.load('C:/Study/adv_dsi/adv_dsi_lab_1/Models/data/processed/X_train.npy')\n",
    "X_val   = np.load('C:/Study/adv_dsi/adv_dsi_lab_1/Models/data/processed/X_val.npy'  )\n",
    "X_test  = np.load('C:/Study/adv_dsi/adv_dsi_lab_1/Models/data/processed/X_test.npy' )\n",
    "y_train = np.load('C:/Study/adv_dsi/adv_dsi_lab_1/Models/data/processed/y_train.npy')\n",
    "y_val   = np.load('C:/Study/adv_dsi/adv_dsi_lab_1/Models/data/processed/y_val.npy'  )\n",
    "y_test  = np.load('C:/Study/adv_dsi/adv_dsi_lab_1/Models/data/processed/y_test.npy' )\n"
   ]
  },
  {
   "cell_type": "code",
   "execution_count": 4,
   "id": "0b09832d",
   "metadata": {},
   "outputs": [],
   "source": [
    "from sklearn.preprocessing import PolynomialFeatures\n",
    "poly = PolynomialFeatures(2)\n"
   ]
  },
  {
   "cell_type": "code",
   "execution_count": 5,
   "id": "8e565399",
   "metadata": {},
   "outputs": [],
   "source": [
    "X_train = poly.fit_transform(X_train)\n"
   ]
  },
  {
   "cell_type": "code",
   "execution_count": 6,
   "id": "1716c712",
   "metadata": {},
   "outputs": [
    {
     "data": {
      "text/plain": [
       "(25372, 1830)"
      ]
     },
     "execution_count": 6,
     "metadata": {},
     "output_type": "execute_result"
    }
   ],
   "source": [
    "X_train.shape\n",
    "(25372, 1830)\n"
   ]
  },
  {
   "cell_type": "code",
   "execution_count": 7,
   "id": "e1ed693d",
   "metadata": {},
   "outputs": [],
   "source": [
    "X_val = poly.transform(X_val)\n",
    "X_test = poly.transform(X_test)\n"
   ]
  },
  {
   "cell_type": "code",
   "execution_count": 8,
   "id": "4a0e94d3",
   "metadata": {},
   "outputs": [],
   "source": [
    "from sklearn.linear_model import LinearRegression \n",
    "reg = LinearRegression()\n"
   ]
  },
  {
   "cell_type": "code",
   "execution_count": 9,
   "id": "eb5f4405",
   "metadata": {},
   "outputs": [
    {
     "data": {
      "text/plain": [
       "LinearRegression()"
      ]
     },
     "execution_count": 9,
     "metadata": {},
     "output_type": "execute_result"
    }
   ],
   "source": [
    "reg.fit(X_train, y_train)\n",
    "LinearRegression()\n"
   ]
  },
  {
   "cell_type": "code",
   "execution_count": 10,
   "id": "9ac83907",
   "metadata": {},
   "outputs": [
    {
     "data": {
      "text/plain": [
       "LinearRegression(normalize=False)"
      ]
     },
     "execution_count": 10,
     "metadata": {},
     "output_type": "execute_result"
    }
   ],
   "source": [
    "LinearRegression(copy_X=True, fit_intercept=True, n_jobs=None, normalize=False)\n",
    "LinearRegression(normalize=False)\n"
   ]
  },
  {
   "cell_type": "code",
   "execution_count": 11,
   "id": "201f0909",
   "metadata": {},
   "outputs": [
    {
     "data": {
      "text/plain": [
       "['C:/Study/adv_dsi/adv_dsi_lab_1/Models/linear_poly_2.joblib']"
      ]
     },
     "execution_count": 11,
     "metadata": {},
     "output_type": "execute_result"
    }
   ],
   "source": [
    "from joblib import dump  \n",
    "dump(reg,  'C:/Study/adv_dsi/adv_dsi_lab_1/Models/linear_poly_2.joblib')\n"
   ]
  },
  {
   "cell_type": "code",
   "execution_count": 12,
   "id": "afefedb2",
   "metadata": {},
   "outputs": [],
   "source": [
    "y_train_preds = reg.predict(X_train)\n",
    "y_val_preds = reg.predict(X_val)\n"
   ]
  },
  {
   "cell_type": "code",
   "execution_count": 13,
   "id": "bfe1402c",
   "metadata": {},
   "outputs": [],
   "source": [
    "from sklearn.metrics import mean_squared_error as mse\n",
    "from sklearn.metrics import mean_absolute_error as mae\n"
   ]
  },
  {
   "cell_type": "code",
   "execution_count": 14,
   "id": "ea4285e2",
   "metadata": {},
   "outputs": [
    {
     "name": "stdout",
     "output_type": "stream",
     "text": [
      "10655.015735066045\n",
      "3765.0010085859903\n"
     ]
    }
   ],
   "source": [
    "print(mse(y_train, y_train_preds, squared=False))\n",
    "print(mae(y_train, y_train_preds))\n"
   ]
  },
  {
   "cell_type": "code",
   "execution_count": 15,
   "id": "bb5645f3",
   "metadata": {},
   "outputs": [
    {
     "name": "stdout",
     "output_type": "stream",
     "text": [
      "10267.129699533409\n",
      "4119.872801464213\n"
     ]
    }
   ],
   "source": [
    "print(mse(y_val, y_val_preds, squared=False))\n",
    "print(mae(y_val, y_val_preds))"
   ]
  }
 ],
 "metadata": {
  "kernelspec": {
   "display_name": "Python 3 (ipykernel)",
   "language": "python",
   "name": "python3"
  },
  "language_info": {
   "codemirror_mode": {
    "name": "ipython",
    "version": 3
   },
   "file_extension": ".py",
   "mimetype": "text/x-python",
   "name": "python",
   "nbconvert_exporter": "python",
   "pygments_lexer": "ipython3",
   "version": "3.9.12"
  }
 },
 "nbformat": 4,
 "nbformat_minor": 5
}
